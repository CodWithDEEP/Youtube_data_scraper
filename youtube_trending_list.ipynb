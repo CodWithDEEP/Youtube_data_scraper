{
 "cells": [
  {
   "cell_type": "code",
   "execution_count": 1,
   "id": "07ddcac6-30d9-4962-aa3d-43af7d2d2fe8",
   "metadata": {
    "tags": []
   },
   "outputs": [],
   "source": [
    "from selenium import webdriver\n",
    "from selenium.webdriver.common.by import By\n",
    "import pandas as pd\n",
    "from datetime import datetime\n",
    "\n",
    "\n",
    "class YouTubeData:\n",
    "    def __init__(self, url, path):\n",
    "        self.url = url\n",
    "        self.path = path\n",
    "        self.driver = None\n",
    "        self.ddmmyy = None\n",
    "\n",
    "    def constructor(self):\n",
    "        self.driver = webdriver.Edge()\n",
    "        self.driver.get(self.url)\n",
    "        \n",
    "    def trending_data(self):\n",
    "        self.day()\n",
    "        videos = self.driver.find_elements(By.CLASS_NAME, 'style-scope ytd-video-renderer')\n",
    "        trending = []\n",
    "\n",
    "        for video in videos:\n",
    "            title = video.find_element(By.XPATH, './/*[@id=\"title-wrapper\"]/h3').text\n",
    "            views = video.find_element(By.XPATH, './/*[@id=\"metadata-line\"]/span[1]').text\n",
    "            upload = video.find_element(By.XPATH, './/*[@id=\"metadata-line\"]/span[2]').text\n",
    "            channel = video.find_element(By.XPATH, './/*[@id=\"text\"]/a').text\n",
    "\n",
    "            about = {\n",
    "                'title': title,\n",
    "                'view': views,\n",
    "                'posted': upload,\n",
    "                'post_By': channel\n",
    "            }\n",
    "            trending.append(about)\n",
    "\n",
    "        df = pd.DataFrame(trending)\n",
    "        df.to_csv(f'trending_{self.ddmmyy}.csv', index=False)\n",
    "        \n",
    "    def day(self):\n",
    "        self.now = datetime.now()\n",
    "        self.ddmmyy = self.now.strftime(\"%d%m%y\")\n",
    "\n",
    "    def close(self):\n",
    "        self.driver.quit()\n",
    "        \n",
    "    def all(self):\n",
    "        self.constructor()\n",
    "        self.trending_data()\n",
    "        self.day()\n",
    "        self.close()\n",
    "        \n",
    "        \n",
    "# Example usage\n",
    "url = 'https://www.youtube.com/feed/trending?bp=4gINGgt5dG1hX2NoYXJ0cw%3D%3D'\n",
    "path = 'C:/Users/Himanshu/Desktop/selenium/msedgedriver'\n",
    "\n",
    "yt_scraper = YouTubeData(url, path)\n",
    "yt_scraper.all()\n"
   ]
  },
  {
   "cell_type": "code",
   "execution_count": null,
   "id": "1889eb3a-0ce2-460e-9ed3-9a7a29ba11fa",
   "metadata": {},
   "outputs": [],
   "source": []
  }
 ],
 "metadata": {
  "kernelspec": {
   "display_name": "Python 3 (ipykernel)",
   "language": "python",
   "name": "python3"
  },
  "language_info": {
   "codemirror_mode": {
    "name": "ipython",
    "version": 3
   },
   "file_extension": ".py",
   "mimetype": "text/x-python",
   "name": "python",
   "nbconvert_exporter": "python",
   "pygments_lexer": "ipython3",
   "version": "3.11.2"
  }
 },
 "nbformat": 4,
 "nbformat_minor": 5
}
